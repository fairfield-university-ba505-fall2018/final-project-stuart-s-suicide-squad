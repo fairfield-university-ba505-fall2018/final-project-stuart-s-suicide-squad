{
 "cells": [
  {
   "cell_type": "markdown",
   "metadata": {},
   "source": [
    "# Stock Analysis Dashboard\n",
    "Brought to you by: Brian Walsh, Thomas Moroski and Stuart Weinstein\n",
    "\n",
    "Our goal was to develop an interactive dashboard where users can get descriptive statistics on any US stock.\n"
   ]
  },
  {
   "cell_type": "code",
   "execution_count": 1,
   "metadata": {},
   "outputs": [],
   "source": [
    "#Initial Imports\n",
    "import back_end as bk"
   ]
  },
  {
   "cell_type": "markdown",
   "metadata": {},
   "source": [
    "## Please Enter a Symbol\n",
    "This block is used to get the stock symbol from the user and then generates a Pandas Df from the data. It then displays the head so we know it worked succesfully"
   ]
  },
  {
   "cell_type": "code",
   "execution_count": null,
   "metadata": {},
   "outputs": [],
   "source": [
    "#This block will loop through and ask the user for stock symbols they want to analyze. 'get_stocks' will promt the user for the symbols and return a list of them.\n",
    "#'make_df' will make the dataframes based on the symbols, and return a list of dataframes. The for loop will simply print the first row of each DF so that we can confirm it worked.\n",
    "\n",
    "symbols = bk.get_stocks() \n",
    "stock_dfs = bk.make_df(symbols)\n",
    "stock_dfs_length = len(stock_dfs)\n",
    "for symbol in range(0,stock_dfs_length):\n",
    "    print(symbols[symbol])\n",
    "    display(stock_dfs[symbol].head(1))"
   ]
  },
  {
   "cell_type": "markdown",
   "metadata": {},
   "source": [
    "## Modifies the DF we made to include new columns\n",
    "Creates new columns taylored to our analysis.  Some columns include; Fluctuation, Volatility, % Term Moving Average, 5, 50 and 200 day Moving Averages."
   ]
  },
  {
   "cell_type": "code",
   "execution_count": null,
   "metadata": {},
   "outputs": [],
   "source": [
    "#this loops through and modifies each DF for the symbols that we need. \n",
    "\n",
    "for symbol in range(0,stock_dfs_length):\n",
    "    df = stock_dfs[symbol]\n",
    "    symbol = symbols[symbol]\n",
    "    print(symbol)\n",
    "    df= bk.mod_df(df)\n",
    "    display(df.head(5))"
   ]
  },
  {
   "cell_type": "markdown",
   "metadata": {},
   "source": [
    "## Prediction Modeling\n",
    "\n",
    "This section determines the RMSE value for each Moving Average case."
   ]
  },
  {
   "cell_type": "code",
   "execution_count": null,
   "metadata": {},
   "outputs": [],
   "source": [
    "for symbol in range(0,stock_dfs_length):\n",
    "    df = stock_dfs[symbol]\n",
    "    symbol = symbols[symbol]\n",
    "    print(symbol)\n",
    "    bk.plot_price_vs_month(df, symbol)\n",
    "    bk.predict(df)"
   ]
  },
  {
   "cell_type": "markdown",
   "metadata": {},
   "source": [
    "## Todays Summary \n",
    "Provides a summary of todays performance"
   ]
  },
  {
   "cell_type": "code",
   "execution_count": null,
   "metadata": {},
   "outputs": [],
   "source": [
    "for symbol in range(0,stock_dfs_length):\n",
    "    print(symbols[symbol])\n",
    "    bk.todays_summary(stock_dfs[symbol]) #add the other variables to this summary in the above (oc_vare and volatility)"
   ]
  },
  {
   "cell_type": "markdown",
   "metadata": {},
   "source": [
    "## Descriptive Visuals\n",
    "\n",
    "This section is for showing plots of our data and doing a visual approach. *Add percentage indicators for the fluctuation values* Add titles to the graphs"
   ]
  },
  {
   "cell_type": "code",
   "execution_count": null,
   "metadata": {},
   "outputs": [],
   "source": [
    "#generates various plots to look at for each symbol. \n",
    "for symbol in range(0,stock_dfs_length):\n",
    "    df = stock_dfs[symbol]\n",
    "    symbol = symbols[symbol]\n",
    "    print(symbol)\n",
    "    bk.plot_price_vs_time(df, symbol)\n",
    "    bk.plot_fluc_vs_time(df, symbol)\n",
    "    bk.plot_volume_vs_volatiltiy(df, symbol)"
   ]
  },
  {
   "cell_type": "markdown",
   "metadata": {},
   "source": [
    "## News and Tweets Sentiment Analysis \n",
    "\n",
    "In this section, the news articles are provided as well as the last 30 'tweets' from stock twits. At the end of each line, there is a % value in [] which indicates the sentiment value of the headline/tweet. It is on a continous scale from [-1 : 1] and the value is shown as a % value. 0 is a neutral headline."
   ]
  },
  {
   "cell_type": "code",
   "execution_count": null,
   "metadata": {},
   "outputs": [],
   "source": [
    "for symbol in range(0,stock_dfs_length):\n",
    "    df = stock_dfs[symbol]\n",
    "    symbol = symbols[symbol]\n",
    "    print(symbol, 'news','\\n')\n",
    "    bk.news(symbol)\n",
    "print('DONE')\n",
    "    #REMEBER TO ENCODE THE LINKS\n",
    "    #do we want to use the summary instead, maybe a more accurate representation of the data?"
   ]
  },
  {
   "cell_type": "code",
   "execution_count": null,
   "metadata": {},
   "outputs": [],
   "source": []
  },
  {
   "cell_type": "code",
   "execution_count": null,
   "metadata": {},
   "outputs": [],
   "source": []
  },
  {
   "cell_type": "code",
   "execution_count": null,
   "metadata": {},
   "outputs": [],
   "source": []
  },
  {
   "cell_type": "code",
   "execution_count": null,
   "metadata": {},
   "outputs": [],
   "source": []
  },
  {
   "cell_type": "code",
   "execution_count": null,
   "metadata": {},
   "outputs": [],
   "source": []
  },
  {
   "cell_type": "code",
   "execution_count": null,
   "metadata": {},
   "outputs": [],
   "source": []
  }
 ],
 "metadata": {
  "kernelspec": {
   "display_name": "Python 3",
   "language": "python",
   "name": "python3"
  },
  "language_info": {
   "codemirror_mode": {
    "name": "ipython",
    "version": 3
   },
   "file_extension": ".py",
   "mimetype": "text/x-python",
   "name": "python",
   "nbconvert_exporter": "python",
   "pygments_lexer": "ipython3",
   "version": "3.6.7"
  }
 },
 "nbformat": 4,
 "nbformat_minor": 2
}
