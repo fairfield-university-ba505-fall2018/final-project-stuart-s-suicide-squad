{
 "cells": [
  {
   "cell_type": "markdown",
   "metadata": {},
   "source": [
    "# Stock Analysis Dashboard\n",
    "Brought to you by: Brian Walsh, Thomas Moroski and Stuart Weinstein\n",
    "\n",
    "Our goal was to develop an interactive dashboard where users can get descriptive statistics on any US stock.\n"
   ]
  },
  {
   "cell_type": "code",
   "execution_count": 1,
   "metadata": {},
   "outputs": [],
   "source": [
    "#Initial Imports\n",
    "import back_end as bk"
   ]
  },
  {
   "cell_type": "markdown",
   "metadata": {},
   "source": [
    "## Please Enter a Symbol\n",
    "This block is used to get the stock symbol from the user and then generates a Pandas Df from the data. It then displays the head so we know it worked succesfully"
   ]
  },
  {
   "cell_type": "code",
   "execution_count": 2,
   "metadata": {},
   "outputs": [
    {
     "name": "stdin",
     "output_type": "stream",
     "text": [
      "Enter a stock symbol:  aapl\n",
      "Enter a stock symbol:  IBM\n",
      "Enter a stock symbol:  no\n"
     ]
    },
    {
     "name": "stdout",
     "output_type": "stream",
     "text": [
      "AAPL\n"
     ]
    },
    {
     "data": {
      "text/html": [
       "<div>\n",
       "<style scoped>\n",
       "    .dataframe tbody tr th:only-of-type {\n",
       "        vertical-align: middle;\n",
       "    }\n",
       "\n",
       "    .dataframe tbody tr th {\n",
       "        vertical-align: top;\n",
       "    }\n",
       "\n",
       "    .dataframe thead th {\n",
       "        text-align: right;\n",
       "    }\n",
       "</style>\n",
       "<table border=\"1\" class=\"dataframe\">\n",
       "  <thead>\n",
       "    <tr style=\"text-align: right;\">\n",
       "      <th></th>\n",
       "      <th>open</th>\n",
       "      <th>high</th>\n",
       "      <th>low</th>\n",
       "      <th>close</th>\n",
       "      <th>adjusted_close</th>\n",
       "      <th>volume</th>\n",
       "      <th>dividend_amount</th>\n",
       "      <th>split_coefficient</th>\n",
       "    </tr>\n",
       "    <tr>\n",
       "      <th>date</th>\n",
       "      <th></th>\n",
       "      <th></th>\n",
       "      <th></th>\n",
       "      <th></th>\n",
       "      <th></th>\n",
       "      <th></th>\n",
       "      <th></th>\n",
       "      <th></th>\n",
       "    </tr>\n",
       "  </thead>\n",
       "  <tbody>\n",
       "    <tr>\n",
       "      <th>2018-12-10</th>\n",
       "      <td>165.0</td>\n",
       "      <td>170.09</td>\n",
       "      <td>163.73</td>\n",
       "      <td>169.6</td>\n",
       "      <td>169.6</td>\n",
       "      <td>61902891</td>\n",
       "      <td>0.0</td>\n",
       "      <td>1.0</td>\n",
       "    </tr>\n",
       "  </tbody>\n",
       "</table>\n",
       "</div>"
      ],
      "text/plain": [
       "             open    high     low  close  adjusted_close    volume  \\\n",
       "date                                                                 \n",
       "2018-12-10  165.0  170.09  163.73  169.6           169.6  61902891   \n",
       "\n",
       "            dividend_amount  split_coefficient  \n",
       "date                                            \n",
       "2018-12-10              0.0                1.0  "
      ]
     },
     "metadata": {},
     "output_type": "display_data"
    },
    {
     "name": "stdout",
     "output_type": "stream",
     "text": [
      "IBM\n"
     ]
    },
    {
     "data": {
      "text/html": [
       "<div>\n",
       "<style scoped>\n",
       "    .dataframe tbody tr th:only-of-type {\n",
       "        vertical-align: middle;\n",
       "    }\n",
       "\n",
       "    .dataframe tbody tr th {\n",
       "        vertical-align: top;\n",
       "    }\n",
       "\n",
       "    .dataframe thead th {\n",
       "        text-align: right;\n",
       "    }\n",
       "</style>\n",
       "<table border=\"1\" class=\"dataframe\">\n",
       "  <thead>\n",
       "    <tr style=\"text-align: right;\">\n",
       "      <th></th>\n",
       "      <th>open</th>\n",
       "      <th>high</th>\n",
       "      <th>low</th>\n",
       "      <th>close</th>\n",
       "      <th>adjusted_close</th>\n",
       "      <th>volume</th>\n",
       "      <th>dividend_amount</th>\n",
       "      <th>split_coefficient</th>\n",
       "    </tr>\n",
       "    <tr>\n",
       "      <th>date</th>\n",
       "      <th></th>\n",
       "      <th></th>\n",
       "      <th></th>\n",
       "      <th></th>\n",
       "      <th></th>\n",
       "      <th></th>\n",
       "      <th></th>\n",
       "      <th></th>\n",
       "    </tr>\n",
       "  </thead>\n",
       "  <tbody>\n",
       "    <tr>\n",
       "      <th>2018-12-10</th>\n",
       "      <td>119.74</td>\n",
       "      <td>121.6822</td>\n",
       "      <td>118.52</td>\n",
       "      <td>121.13</td>\n",
       "      <td>121.13</td>\n",
       "      <td>6549092</td>\n",
       "      <td>0.0</td>\n",
       "      <td>1.0</td>\n",
       "    </tr>\n",
       "  </tbody>\n",
       "</table>\n",
       "</div>"
      ],
      "text/plain": [
       "              open      high     low   close  adjusted_close   volume  \\\n",
       "date                                                                    \n",
       "2018-12-10  119.74  121.6822  118.52  121.13          121.13  6549092   \n",
       "\n",
       "            dividend_amount  split_coefficient  \n",
       "date                                            \n",
       "2018-12-10              0.0                1.0  "
      ]
     },
     "metadata": {},
     "output_type": "display_data"
    }
   ],
   "source": [
    "#This block will loop through and ask the user for stock symbols they want to analyze. 'get_stocks' will promt the user for the symbols and return a list of them.\n",
    "#'make_df' will make the dataframes based on the symbols, and return a list of dataframes. The for loop will simply print the first row of each DF so that we can confirm it worked.\n",
    "\n",
    "symbols = bk.get_stocks() \n",
    "stock_dfs = bk.make_df(symbols)\n",
    "stock_dfs_length = len(stock_dfs)\n",
    "for symbol in range(0,stock_dfs_length):\n",
    "    print(symbols[symbol])\n",
    "    display(stock_dfs[symbol].head(1))"
   ]
  },
  {
   "cell_type": "markdown",
   "metadata": {},
   "source": [
    "## Modifies the DF we made to include new columns\n",
    "Creates new columns taylored to our analysis.  Some columns include; Fluctuation, Volatility, % Term Moving Average, 50 Term Moving Average, and 200 Term Moving Average."
   ]
  },
  {
   "cell_type": "code",
   "execution_count": 3,
   "metadata": {},
   "outputs": [
    {
     "name": "stdout",
     "output_type": "stream",
     "text": [
      "AAPL\n"
     ]
    },
    {
     "data": {
      "text/html": [
       "<div>\n",
       "<style scoped>\n",
       "    .dataframe tbody tr th:only-of-type {\n",
       "        vertical-align: middle;\n",
       "    }\n",
       "\n",
       "    .dataframe tbody tr th {\n",
       "        vertical-align: top;\n",
       "    }\n",
       "\n",
       "    .dataframe thead th {\n",
       "        text-align: right;\n",
       "    }\n",
       "</style>\n",
       "<table border=\"1\" class=\"dataframe\">\n",
       "  <thead>\n",
       "    <tr style=\"text-align: right;\">\n",
       "      <th></th>\n",
       "      <th>open</th>\n",
       "      <th>high</th>\n",
       "      <th>low</th>\n",
       "      <th>close</th>\n",
       "      <th>adjusted_close</th>\n",
       "      <th>volume</th>\n",
       "      <th>dividend_amount</th>\n",
       "      <th>split_coefficient</th>\n",
       "      <th>fluctuation</th>\n",
       "      <th>oc_var</th>\n",
       "      <th>volatility</th>\n",
       "      <th>ma(5)</th>\n",
       "      <th>ma(50)</th>\n",
       "      <th>ma(200)</th>\n",
       "      <th>date</th>\n",
       "      <th>dow</th>\n",
       "      <th>month</th>\n",
       "      <th>year</th>\n",
       "    </tr>\n",
       "    <tr>\n",
       "      <th>date</th>\n",
       "      <th></th>\n",
       "      <th></th>\n",
       "      <th></th>\n",
       "      <th></th>\n",
       "      <th></th>\n",
       "      <th></th>\n",
       "      <th></th>\n",
       "      <th></th>\n",
       "      <th></th>\n",
       "      <th></th>\n",
       "      <th></th>\n",
       "      <th></th>\n",
       "      <th></th>\n",
       "      <th></th>\n",
       "      <th></th>\n",
       "      <th></th>\n",
       "      <th></th>\n",
       "      <th></th>\n",
       "    </tr>\n",
       "  </thead>\n",
       "  <tbody>\n",
       "    <tr>\n",
       "      <th>2018-12-10</th>\n",
       "      <td>165.00</td>\n",
       "      <td>170.0900</td>\n",
       "      <td>163.73</td>\n",
       "      <td>169.60</td>\n",
       "      <td>169.60</td>\n",
       "      <td>61902891</td>\n",
       "      <td>0.0</td>\n",
       "      <td>1.0</td>\n",
       "      <td>3.750000</td>\n",
       "      <td>-4.60</td>\n",
       "      <td>6.3600</td>\n",
       "      <td>NaN</td>\n",
       "      <td>NaN</td>\n",
       "      <td>NaN</td>\n",
       "      <td>2018-12-10</td>\n",
       "      <td>Monday</td>\n",
       "      <td>December</td>\n",
       "      <td>2018</td>\n",
       "    </tr>\n",
       "    <tr>\n",
       "      <th>2018-12-07</th>\n",
       "      <td>173.49</td>\n",
       "      <td>174.4900</td>\n",
       "      <td>168.30</td>\n",
       "      <td>168.49</td>\n",
       "      <td>168.49</td>\n",
       "      <td>42281631</td>\n",
       "      <td>0.0</td>\n",
       "      <td>1.0</td>\n",
       "      <td>3.673809</td>\n",
       "      <td>5.00</td>\n",
       "      <td>6.1900</td>\n",
       "      <td>NaN</td>\n",
       "      <td>NaN</td>\n",
       "      <td>NaN</td>\n",
       "      <td>2018-12-07</td>\n",
       "      <td>Friday</td>\n",
       "      <td>December</td>\n",
       "      <td>2018</td>\n",
       "    </tr>\n",
       "    <tr>\n",
       "      <th>2018-12-06</th>\n",
       "      <td>171.76</td>\n",
       "      <td>174.7800</td>\n",
       "      <td>170.42</td>\n",
       "      <td>174.72</td>\n",
       "      <td>174.72</td>\n",
       "      <td>43098410</td>\n",
       "      <td>0.0</td>\n",
       "      <td>1.0</td>\n",
       "      <td>2.495421</td>\n",
       "      <td>-2.96</td>\n",
       "      <td>4.3600</td>\n",
       "      <td>NaN</td>\n",
       "      <td>NaN</td>\n",
       "      <td>NaN</td>\n",
       "      <td>2018-12-06</td>\n",
       "      <td>Thursday</td>\n",
       "      <td>December</td>\n",
       "      <td>2018</td>\n",
       "    </tr>\n",
       "    <tr>\n",
       "      <th>2018-12-04</th>\n",
       "      <td>180.95</td>\n",
       "      <td>182.3899</td>\n",
       "      <td>176.27</td>\n",
       "      <td>176.69</td>\n",
       "      <td>176.69</td>\n",
       "      <td>41344282</td>\n",
       "      <td>0.0</td>\n",
       "      <td>1.0</td>\n",
       "      <td>3.463637</td>\n",
       "      <td>4.26</td>\n",
       "      <td>6.1199</td>\n",
       "      <td>NaN</td>\n",
       "      <td>NaN</td>\n",
       "      <td>NaN</td>\n",
       "      <td>2018-12-04</td>\n",
       "      <td>Tuesday</td>\n",
       "      <td>December</td>\n",
       "      <td>2018</td>\n",
       "    </tr>\n",
       "    <tr>\n",
       "      <th>2018-12-03</th>\n",
       "      <td>184.46</td>\n",
       "      <td>184.9400</td>\n",
       "      <td>181.21</td>\n",
       "      <td>184.82</td>\n",
       "      <td>184.82</td>\n",
       "      <td>40798002</td>\n",
       "      <td>0.0</td>\n",
       "      <td>1.0</td>\n",
       "      <td>2.018180</td>\n",
       "      <td>-0.36</td>\n",
       "      <td>3.7300</td>\n",
       "      <td>174.864</td>\n",
       "      <td>NaN</td>\n",
       "      <td>NaN</td>\n",
       "      <td>2018-12-03</td>\n",
       "      <td>Monday</td>\n",
       "      <td>December</td>\n",
       "      <td>2018</td>\n",
       "    </tr>\n",
       "  </tbody>\n",
       "</table>\n",
       "</div>"
      ],
      "text/plain": [
       "              open      high     low   close  adjusted_close    volume  \\\n",
       "date                                                                     \n",
       "2018-12-10  165.00  170.0900  163.73  169.60          169.60  61902891   \n",
       "2018-12-07  173.49  174.4900  168.30  168.49          168.49  42281631   \n",
       "2018-12-06  171.76  174.7800  170.42  174.72          174.72  43098410   \n",
       "2018-12-04  180.95  182.3899  176.27  176.69          176.69  41344282   \n",
       "2018-12-03  184.46  184.9400  181.21  184.82          184.82  40798002   \n",
       "\n",
       "            dividend_amount  split_coefficient  fluctuation  oc_var  \\\n",
       "date                                                                  \n",
       "2018-12-10              0.0                1.0     3.750000   -4.60   \n",
       "2018-12-07              0.0                1.0     3.673809    5.00   \n",
       "2018-12-06              0.0                1.0     2.495421   -2.96   \n",
       "2018-12-04              0.0                1.0     3.463637    4.26   \n",
       "2018-12-03              0.0                1.0     2.018180   -0.36   \n",
       "\n",
       "            volatility    ma(5)  ma(50)  ma(200)       date       dow  \\\n",
       "date                                                                    \n",
       "2018-12-10      6.3600      NaN     NaN      NaN 2018-12-10    Monday   \n",
       "2018-12-07      6.1900      NaN     NaN      NaN 2018-12-07    Friday   \n",
       "2018-12-06      4.3600      NaN     NaN      NaN 2018-12-06  Thursday   \n",
       "2018-12-04      6.1199      NaN     NaN      NaN 2018-12-04   Tuesday   \n",
       "2018-12-03      3.7300  174.864     NaN      NaN 2018-12-03    Monday   \n",
       "\n",
       "               month  year  \n",
       "date                        \n",
       "2018-12-10  December  2018  \n",
       "2018-12-07  December  2018  \n",
       "2018-12-06  December  2018  \n",
       "2018-12-04  December  2018  \n",
       "2018-12-03  December  2018  "
      ]
     },
     "metadata": {},
     "output_type": "display_data"
    },
    {
     "name": "stdout",
     "output_type": "stream",
     "text": [
      "IBM\n"
     ]
    },
    {
     "data": {
      "text/html": [
       "<div>\n",
       "<style scoped>\n",
       "    .dataframe tbody tr th:only-of-type {\n",
       "        vertical-align: middle;\n",
       "    }\n",
       "\n",
       "    .dataframe tbody tr th {\n",
       "        vertical-align: top;\n",
       "    }\n",
       "\n",
       "    .dataframe thead th {\n",
       "        text-align: right;\n",
       "    }\n",
       "</style>\n",
       "<table border=\"1\" class=\"dataframe\">\n",
       "  <thead>\n",
       "    <tr style=\"text-align: right;\">\n",
       "      <th></th>\n",
       "      <th>open</th>\n",
       "      <th>high</th>\n",
       "      <th>low</th>\n",
       "      <th>close</th>\n",
       "      <th>adjusted_close</th>\n",
       "      <th>volume</th>\n",
       "      <th>dividend_amount</th>\n",
       "      <th>split_coefficient</th>\n",
       "      <th>fluctuation</th>\n",
       "      <th>oc_var</th>\n",
       "      <th>volatility</th>\n",
       "      <th>ma(5)</th>\n",
       "      <th>ma(50)</th>\n",
       "      <th>ma(200)</th>\n",
       "      <th>date</th>\n",
       "      <th>dow</th>\n",
       "      <th>month</th>\n",
       "      <th>year</th>\n",
       "    </tr>\n",
       "    <tr>\n",
       "      <th>date</th>\n",
       "      <th></th>\n",
       "      <th></th>\n",
       "      <th></th>\n",
       "      <th></th>\n",
       "      <th></th>\n",
       "      <th></th>\n",
       "      <th></th>\n",
       "      <th></th>\n",
       "      <th></th>\n",
       "      <th></th>\n",
       "      <th></th>\n",
       "      <th></th>\n",
       "      <th></th>\n",
       "      <th></th>\n",
       "      <th></th>\n",
       "      <th></th>\n",
       "      <th></th>\n",
       "      <th></th>\n",
       "    </tr>\n",
       "  </thead>\n",
       "  <tbody>\n",
       "    <tr>\n",
       "      <th>2018-12-10</th>\n",
       "      <td>119.74</td>\n",
       "      <td>121.6822</td>\n",
       "      <td>118.520</td>\n",
       "      <td>121.13</td>\n",
       "      <td>121.13</td>\n",
       "      <td>6549092</td>\n",
       "      <td>0.0</td>\n",
       "      <td>1.0</td>\n",
       "      <td>2.610584</td>\n",
       "      <td>-1.39</td>\n",
       "      <td>3.1622</td>\n",
       "      <td>NaN</td>\n",
       "      <td>NaN</td>\n",
       "      <td>NaN</td>\n",
       "      <td>2018-12-10</td>\n",
       "      <td>Monday</td>\n",
       "      <td>December</td>\n",
       "      <td>2018</td>\n",
       "    </tr>\n",
       "    <tr>\n",
       "      <th>2018-12-07</th>\n",
       "      <td>123.90</td>\n",
       "      <td>124.0500</td>\n",
       "      <td>118.870</td>\n",
       "      <td>119.34</td>\n",
       "      <td>119.34</td>\n",
       "      <td>7019616</td>\n",
       "      <td>0.0</td>\n",
       "      <td>1.0</td>\n",
       "      <td>4.340540</td>\n",
       "      <td>4.56</td>\n",
       "      <td>5.1800</td>\n",
       "      <td>NaN</td>\n",
       "      <td>NaN</td>\n",
       "      <td>NaN</td>\n",
       "      <td>2018-12-07</td>\n",
       "      <td>Friday</td>\n",
       "      <td>December</td>\n",
       "      <td>2018</td>\n",
       "    </tr>\n",
       "    <tr>\n",
       "      <th>2018-12-06</th>\n",
       "      <td>119.72</td>\n",
       "      <td>123.9100</td>\n",
       "      <td>119.301</td>\n",
       "      <td>123.91</td>\n",
       "      <td>123.91</td>\n",
       "      <td>6938049</td>\n",
       "      <td>0.0</td>\n",
       "      <td>1.0</td>\n",
       "      <td>3.719635</td>\n",
       "      <td>-4.19</td>\n",
       "      <td>4.6090</td>\n",
       "      <td>NaN</td>\n",
       "      <td>NaN</td>\n",
       "      <td>NaN</td>\n",
       "      <td>2018-12-06</td>\n",
       "      <td>Thursday</td>\n",
       "      <td>December</td>\n",
       "      <td>2018</td>\n",
       "    </tr>\n",
       "    <tr>\n",
       "      <th>2018-12-04</th>\n",
       "      <td>124.49</td>\n",
       "      <td>124.9200</td>\n",
       "      <td>121.330</td>\n",
       "      <td>121.60</td>\n",
       "      <td>121.60</td>\n",
       "      <td>6000697</td>\n",
       "      <td>0.0</td>\n",
       "      <td>1.0</td>\n",
       "      <td>2.952303</td>\n",
       "      <td>2.89</td>\n",
       "      <td>3.5900</td>\n",
       "      <td>NaN</td>\n",
       "      <td>NaN</td>\n",
       "      <td>NaN</td>\n",
       "      <td>2018-12-04</td>\n",
       "      <td>Tuesday</td>\n",
       "      <td>December</td>\n",
       "      <td>2018</td>\n",
       "    </tr>\n",
       "    <tr>\n",
       "      <th>2018-12-03</th>\n",
       "      <td>125.67</td>\n",
       "      <td>126.5900</td>\n",
       "      <td>124.360</td>\n",
       "      <td>125.31</td>\n",
       "      <td>125.31</td>\n",
       "      <td>5843112</td>\n",
       "      <td>0.0</td>\n",
       "      <td>1.0</td>\n",
       "      <td>1.779587</td>\n",
       "      <td>0.36</td>\n",
       "      <td>2.2300</td>\n",
       "      <td>122.258</td>\n",
       "      <td>NaN</td>\n",
       "      <td>NaN</td>\n",
       "      <td>2018-12-03</td>\n",
       "      <td>Monday</td>\n",
       "      <td>December</td>\n",
       "      <td>2018</td>\n",
       "    </tr>\n",
       "  </tbody>\n",
       "</table>\n",
       "</div>"
      ],
      "text/plain": [
       "              open      high      low   close  adjusted_close   volume  \\\n",
       "date                                                                     \n",
       "2018-12-10  119.74  121.6822  118.520  121.13          121.13  6549092   \n",
       "2018-12-07  123.90  124.0500  118.870  119.34          119.34  7019616   \n",
       "2018-12-06  119.72  123.9100  119.301  123.91          123.91  6938049   \n",
       "2018-12-04  124.49  124.9200  121.330  121.60          121.60  6000697   \n",
       "2018-12-03  125.67  126.5900  124.360  125.31          125.31  5843112   \n",
       "\n",
       "            dividend_amount  split_coefficient  fluctuation  oc_var  \\\n",
       "date                                                                  \n",
       "2018-12-10              0.0                1.0     2.610584   -1.39   \n",
       "2018-12-07              0.0                1.0     4.340540    4.56   \n",
       "2018-12-06              0.0                1.0     3.719635   -4.19   \n",
       "2018-12-04              0.0                1.0     2.952303    2.89   \n",
       "2018-12-03              0.0                1.0     1.779587    0.36   \n",
       "\n",
       "            volatility    ma(5)  ma(50)  ma(200)       date       dow  \\\n",
       "date                                                                    \n",
       "2018-12-10      3.1622      NaN     NaN      NaN 2018-12-10    Monday   \n",
       "2018-12-07      5.1800      NaN     NaN      NaN 2018-12-07    Friday   \n",
       "2018-12-06      4.6090      NaN     NaN      NaN 2018-12-06  Thursday   \n",
       "2018-12-04      3.5900      NaN     NaN      NaN 2018-12-04   Tuesday   \n",
       "2018-12-03      2.2300  122.258     NaN      NaN 2018-12-03    Monday   \n",
       "\n",
       "               month  year  \n",
       "date                        \n",
       "2018-12-10  December  2018  \n",
       "2018-12-07  December  2018  \n",
       "2018-12-06  December  2018  \n",
       "2018-12-04  December  2018  \n",
       "2018-12-03  December  2018  "
      ]
     },
     "metadata": {},
     "output_type": "display_data"
    }
   ],
   "source": [
    "#this loops through and modifies each DF for the symbols that we need. \n",
    "\n",
    "for symbol in range(0,stock_dfs_length):\n",
    "    df = stock_dfs[symbol]\n",
    "    symbol = symbols[symbol]\n",
    "    print(symbol)\n",
    "    df= bk.mod_df(df)\n",
    "    display(df.head(5))"
   ]
  },
  {
   "cell_type": "markdown",
   "metadata": {},
   "source": [
    "## Prediction Modeling\n",
    "\n",
    "This section determines the RMSE value for each Moving Average case."
   ]
  },
  {
   "cell_type": "code",
   "execution_count": 4,
   "metadata": {},
   "outputs": [
    {
     "name": "stdout",
     "output_type": "stream",
     "text": [
      "AAPL\n"
     ]
    },
    {
     "data": {
      "image/png": "[encoded data removed]",
      "text/plain": [
       "<Figure size 432x288 with 1 Axes>"
      ]
     },
     "metadata": {
      "needs_background": "light"
     },
     "output_type": "display_data"
    },
    {
     "name": "stdout",
     "output_type": "stream",
     "text": [
      "RMSE of MA(5) is:  1.19\n",
      "RMSE of MA(50) is:  4.15\n",
      "RMSE of MA(200) is:  8.91\n",
      "IBM\n"
     ]
    },
    {
     "data": {
      "image/png": "[encoded data removed]",
      "text/plain": [
       "<Figure size 432x288 with 1 Axes>"
      ]
     },
     "metadata": {
      "needs_background": "light"
     },
     "output_type": "display_data"
    },
    {
     "name": "stdout",
     "output_type": "stream",
     "text": [
      "RMSE of MA(5) is:  1.65\n",
      "RMSE of MA(50) is:  5.55\n",
      "RMSE of MA(200) is:  10.17\n"
     ]
    }
   ],
   "source": [
    "for symbol in range(0,stock_dfs_length):\n",
    "    df = stock_dfs[symbol]\n",
    "    symbol = symbols[symbol]\n",
    "    print(symbol)\n",
    "    bk.plot_price_vs_month(df, symbol)\n",
    "    bk.predict(df)"
   ]
  },
  {
   "cell_type": "markdown",
   "metadata": {},
   "source": [
    "## Todays Summary \n",
    "Provides a summary of todays performance"
   ]
  },
  {
   "cell_type": "code",
   "execution_count": 6,
   "metadata": {},
   "outputs": [
    {
     "name": "stdout",
     "output_type": "stream",
     "text": [
      "AAPL\n",
      "Todays Opening Price:  $165.00\n",
      "Todays Highest Price:  $170.09\n",
      "Todays Lowest Price:  $163.73\n",
      "Todays Closing Price:  $169.60\n",
      "Todays Trading Volume:  61,902,891\n",
      "Todays Price Fluctuation:  3.75%\n",
      "\n"
     ]
    }
   ],
   "source": [
    "for symbol in range(0,stock_dfs_length):\n",
    "    print(symbols[symbol])\n",
    "    bk.todays_summary(stock_dfs[symbol]) #add the other variables to this summary in the above (oc_vare and volatility)"
   ]
  },
  {
   "cell_type": "markdown",
   "metadata": {},
   "source": [
    "## Descriptive Visuals\n",
    "\n",
    "This section is for showing plots of our data and doing a visual approach. *Add percentage indicators for the fluctuation values* Add titles to the graphs"
   ]
  },
  {
   "cell_type": "code",
   "execution_count": 7,
   "metadata": {},
   "outputs": [
    {
     "name": "stdout",
     "output_type": "stream",
     "text": [
      "AAPL\n"
     ]
    },
    {
     "data": {
      "image/png": "[encoded data removed]",
      "text/plain": [
       "<Figure size 432x288 with 1 Axes>"
      ]
     },
     "metadata": {
      "needs_background": "light"
     },
     "output_type": "display_data"
    },
    {
     "data": {
      "image/png": "[encoded data removed]",
      "text/plain": [
       "<Figure size 432x288 with 1 Axes>"
      ]
     },
     "metadata": {
      "needs_background": "light"
     },
     "output_type": "display_data"
    },
    {
     "name": "stdout",
     "output_type": "stream",
     "text": [
      "Correlation1:  0.18992726023475043\n"
     ]
    },
    {
     "data": {
      "image/png": "[encoded data removed]",
      "text/plain": [
       "<Figure size 432x288 with 1 Axes>"
      ]
     },
     "metadata": {
      "needs_background": "light"
     },
     "output_type": "display_data"
    }
   ],
   "source": [
    "#generates various plots to look at for each symbol. \n",
    "for symbol in range(0,stock_dfs_length):\n",
    "    df = stock_dfs[symbol]\n",
    "    symbol = symbols[symbol]\n",
    "    print(symbol)\n",
    "    bk.plot_price_vs_time(df, symbol)\n",
    "    bk.plot_fluc_vs_time(df, symbol)\n",
    "    bk.plot_volume_vs_volatiltiy(df, symbol)"
   ]
  },
  {
   "cell_type": "markdown",
   "metadata": {},
   "source": [
    "## News and Tweets Sentiment Analysis \n",
    "\n",
    "In this section, the news articles are provided as well as the last 30 'tweets' from stock twits. At the end of each line, there is a % value in [] which indicates the sentiment value of the headline/tweet. It is on a continous scale from [-1 : 1] and the value is shown as a % value. 0 is a neutral headline."
   ]
  },
  {
   "cell_type": "code",
   "execution_count": 8,
   "metadata": {},
   "outputs": [
    {
     "name": "stdout",
     "output_type": "stream",
     "text": [
      "AAPL news \n",
      "\n",
      "\u001b[0m1) Fear of interest rate hikes is fading as next Fed meeting approaches[0.0%]\n",
      "\u001b[0m2) The action in Apple's stock tells you everything you need to know about this market, says Jim Cramer[10.0%]\n",
      "\u001b[0m3) The Huawei case will finally force the US to prove some claims it's made about Chinese companies[0.0%]\n",
      "\u001b[0m4) Apple appeals China's iPhone sales ban[0.0%]\n",
      "\u001b[0m5) Apple files appeal to overturn iPhone sales ban in China[0.0%]\n",
      "\n",
      "\n",
      "DONE\n"
     ]
    }
   ],
   "source": [
    "for symbol in range(0,stock_dfs_length):\n",
    "    df = stock_dfs[symbol]\n",
    "    symbol = symbols[symbol]\n",
    "    print(symbol, 'news','\\n')\n",
    "    bk.news(symbol)\n",
    "print('DONE')\n",
    "    #REMEBER TO ENCODE THE LINKS\n",
    "    #do we want to use the summary instead, maybe a more accurate representation of the data?"
   ]
  },
  {
   "cell_type": "code",
   "execution_count": null,
   "metadata": {},
   "outputs": [],
   "source": []
  },
  {
   "cell_type": "code",
   "execution_count": null,
   "metadata": {},
   "outputs": [],
   "source": []
  },
  {
   "cell_type": "code",
   "execution_count": null,
   "metadata": {},
   "outputs": [],
   "source": []
  },
  {
   "cell_type": "code",
   "execution_count": null,
   "metadata": {},
   "outputs": [],
   "source": []
  }
 ],
 "metadata": {
  "kernelspec": {
   "display_name": "Python 3",
   "language": "python",
   "name": "python3"
  },
  "language_info": {
   "codemirror_mode": {
    "name": "ipython",
    "version": 3
   },
   "file_extension": ".py",
   "mimetype": "text/x-python",
   "name": "python",
   "nbconvert_exporter": "python",
   "pygments_lexer": "ipython3",
   "version": "3.6.7"
  }
 },
 "nbformat": 4,
 "nbformat_minor": 2
}
