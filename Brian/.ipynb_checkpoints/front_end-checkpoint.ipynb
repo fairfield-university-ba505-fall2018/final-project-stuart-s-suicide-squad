{
 "cells": [
  {
   "cell_type": "markdown",
   "metadata": {},
   "source": [
    "## Stock Analysis Dashboard"
   ]
  },
  {
   "cell_type": "code",
   "execution_count": 1,
   "metadata": {},
   "outputs": [],
   "source": [
    "#Initial Imports\n",
    "import back_end as bk\n",
    "from IPython.display import HTML, display"
   ]
  },
  {
   "cell_type": "markdown",
   "metadata": {},
   "source": [
    "## Please Enter a Symbol\n",
    "This block is used to get the stock symbol from the user and then generates a Pandas Df from the data. It then displays the head so we know it worked succesfully"
   ]
  },
  {
   "cell_type": "code",
   "execution_count": 2,
   "metadata": {},
   "outputs": [
    {
     "name": "stdin",
     "output_type": "stream",
     "text": [
      "Enter a stock symbol:  1\n",
      "Enter a stock symbol:  2\n",
      "Enter a stock symbol:  no\n"
     ]
    },
    {
     "name": "stdout",
     "output_type": "stream",
     "text": [
      "['1', '2']\n"
     ]
    }
   ],
   "source": [
    "#symbol = input(\"Enter a stock symbol: \").upper()\n",
    "symbol = 'AMZN'\n",
    "#bk.pass_symbol(symbol)\n",
    "df_user = bk.make_df(symbol)\n",
    "#print(bk.get_stocks()) --> this currently works to pass a repetaed list of inputs that the user will get "
   ]
  },
  {
   "cell_type": "markdown",
   "metadata": {},
   "source": [
    "## Modifies the DF we made to include new columns\n",
    "Makes new columns for our analysis. Includes flucuation."
   ]
  },
  {
   "cell_type": "code",
   "execution_count": 3,
   "metadata": {},
   "outputs": [
    {
     "data": {
      "text/html": [
       "<div>\n",
       "<style scoped>\n",
       "    .dataframe tbody tr th:only-of-type {\n",
       "        vertical-align: middle;\n",
       "    }\n",
       "\n",
       "    .dataframe tbody tr th {\n",
       "        vertical-align: top;\n",
       "    }\n",
       "\n",
       "    .dataframe thead th {\n",
       "        text-align: right;\n",
       "    }\n",
       "</style>\n",
       "<table border=\"1\" class=\"dataframe\">\n",
       "  <thead>\n",
       "    <tr style=\"text-align: right;\">\n",
       "      <th></th>\n",
       "      <th>open</th>\n",
       "      <th>high</th>\n",
       "      <th>low</th>\n",
       "      <th>close</th>\n",
       "      <th>volume</th>\n",
       "      <th>fluctuation</th>\n",
       "    </tr>\n",
       "    <tr>\n",
       "      <th>date</th>\n",
       "      <th></th>\n",
       "      <th></th>\n",
       "      <th></th>\n",
       "      <th></th>\n",
       "      <th></th>\n",
       "      <th></th>\n",
       "    </tr>\n",
       "  </thead>\n",
       "  <tbody>\n",
       "    <tr>\n",
       "      <th>2018-12-03</th>\n",
       "      <td>1769.46</td>\n",
       "      <td>1778.34</td>\n",
       "      <td>1730.00</td>\n",
       "      <td>1772.36</td>\n",
       "      <td>6840148</td>\n",
       "      <td>2.727437</td>\n",
       "    </tr>\n",
       "    <tr>\n",
       "      <th>2018-11-30</th>\n",
       "      <td>1679.50</td>\n",
       "      <td>1696.00</td>\n",
       "      <td>1666.50</td>\n",
       "      <td>1690.17</td>\n",
       "      <td>5761761</td>\n",
       "      <td>1.745387</td>\n",
       "    </tr>\n",
       "    <tr>\n",
       "      <th>2018-11-29</th>\n",
       "      <td>1674.99</td>\n",
       "      <td>1689.99</td>\n",
       "      <td>1652.33</td>\n",
       "      <td>1673.57</td>\n",
       "      <td>6613243</td>\n",
       "      <td>2.250279</td>\n",
       "    </tr>\n",
       "    <tr>\n",
       "      <th>2018-11-28</th>\n",
       "      <td>1613.92</td>\n",
       "      <td>1681.45</td>\n",
       "      <td>1601.21</td>\n",
       "      <td>1677.75</td>\n",
       "      <td>8458738</td>\n",
       "      <td>4.782596</td>\n",
       "    </tr>\n",
       "    <tr>\n",
       "      <th>2018-11-27</th>\n",
       "      <td>1575.99</td>\n",
       "      <td>1597.65</td>\n",
       "      <td>1558.01</td>\n",
       "      <td>1581.42</td>\n",
       "      <td>5783227</td>\n",
       "      <td>2.506608</td>\n",
       "    </tr>\n",
       "  </tbody>\n",
       "</table>\n",
       "</div>"
      ],
      "text/plain": [
       "               open     high      low    close   volume  fluctuation\n",
       "date                                                                \n",
       "2018-12-03  1769.46  1778.34  1730.00  1772.36  6840148     2.727437\n",
       "2018-11-30  1679.50  1696.00  1666.50  1690.17  5761761     1.745387\n",
       "2018-11-29  1674.99  1689.99  1652.33  1673.57  6613243     2.250279\n",
       "2018-11-28  1613.92  1681.45  1601.21  1677.75  8458738     4.782596\n",
       "2018-11-27  1575.99  1597.65  1558.01  1581.42  5783227     2.506608"
      ]
     },
     "metadata": {},
     "output_type": "display_data"
    }
   ],
   "source": [
    "df_user = bk.add_fluctuation(df_user)\n",
    "display(df_user.head())"
   ]
  },
  {
   "cell_type": "markdown",
   "metadata": {},
   "source": [
    "## Todays Summary \n",
    "Provides a summary of todays performance"
   ]
  },
  {
   "cell_type": "code",
   "execution_count": 4,
   "metadata": {},
   "outputs": [
    {
     "name": "stdout",
     "output_type": "stream",
     "text": [
      "Todays Opening Price:  $1,769.46\n",
      "Todays Highest Price:  $1,778.34\n",
      "Todays Lowest Price:  $1,730.00\n",
      "Todays Closing Price:  $1,772.36\n",
      "Todays Trading Volume:  6,840,148\n",
      "Todays Price Fluctuation:  2.73 %\n"
     ]
    }
   ],
   "source": [
    "bk.todays_summary(df_user)"
   ]
  },
  {
   "cell_type": "code",
   "execution_count": 5,
   "metadata": {},
   "outputs": [
    {
     "name": "stdout",
     "output_type": "stream",
     "text": [
      "https://api.iextrading.com/1.0/stock/amzn/article/8598763813167179\n"
     ]
    }
   ],
   "source": [
    "bk.news(symbol)\n"
   ]
  },
  {
   "cell_type": "code",
   "execution_count": null,
   "metadata": {},
   "outputs": [],
   "source": []
  }
 ],
 "metadata": {
  "kernelspec": {
   "display_name": "Python 3",
   "language": "python",
   "name": "python3"
  },
  "language_info": {
   "codemirror_mode": {
    "name": "ipython",
    "version": 3
   },
   "file_extension": ".py",
   "mimetype": "text/x-python",
   "name": "python",
   "nbconvert_exporter": "python",
   "pygments_lexer": "ipython3",
   "version": "3.6.5"
  }
 },
 "nbformat": 4,
 "nbformat_minor": 2
}
